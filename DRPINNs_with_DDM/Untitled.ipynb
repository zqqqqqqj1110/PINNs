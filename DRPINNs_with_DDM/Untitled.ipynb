{
 "cells": [
  {
   "cell_type": "code",
   "execution_count": 1,
   "id": "2d12f313-afaf-4ae7-b397-7189a64aeaf4",
   "metadata": {
    "tags": []
   },
   "outputs": [],
   "source": [
    "import torch\n",
    "import matplotlib.pyplot as plt\n",
    "from mpl_toolkits.mplot3d import Axes3D\n",
    "import time\n",
    "import torch.nn.functional as F\n",
    "from skopt import BayesSearchCV\n",
    "from skopt.space import Real\n",
    "from skopt import gp_minimize\n",
    "import torch.nn as nn\n",
    "import seaborn as sns\n",
    "from scipy.optimize import minimize\n",
    "import torch.optim as optim\n",
    "from torch.optim.lr_scheduler import StepLR\n",
    "import matplotlib as mpl\n",
    "from skopt.utils import use_named_args\n",
    "from tqdm import tqdm\n",
    "import multiprocessing\n",
    "import threading"
   ]
  },
  {
   "cell_type": "code",
   "execution_count": 2,
   "id": "2751b766-4f38-469a-9115-bf66b98f704e",
   "metadata": {
    "tags": []
   },
   "outputs": [
    {
     "name": "stdout",
     "output_type": "stream",
     "text": [
      "cpu\n"
     ]
    }
   ],
   "source": [
    "# 设置GPU设备，如果没有可用的GPU，则使用CPU\n",
    "device = torch.device(\"cuda:0\" if torch.cuda.is_available() else \"cpu\")\n",
    "\n",
    "def setup_seed(seed):\n",
    "    torch.manual_seed(seed)\n",
    "    torch.cuda.manual_seed_all(seed)\n",
    "    torch.backends.cudnn.deterministic = True\n",
    "\n",
    "setup_seed(888888)\n",
    "\n",
    "print(device)"
   ]
  },
  {
   "cell_type": "markdown",
   "id": "ea663f29-9739-4070-aa77-326a03c857ee",
   "metadata": {},
   "source": [
    "## 基础参数"
   ]
  },
  {
   "cell_type": "code",
   "execution_count": 3,
   "id": "e98e1130-1bd4-4e35-be9b-7808a51be77d",
   "metadata": {
    "tags": []
   },
   "outputs": [],
   "source": [
    "# 基础参数\n",
    "epochs = 400000    # 训练代数\n",
    "h = 100    # 画图网格密度\n",
    "N = 100    # 内点配置点数\n",
    "N1 = 0.01    # 边界点配置点数\n",
    "n = 1000    # PDE数据点"
   ]
  },
  {
   "cell_type": "markdown",
   "id": "19fe9d57-09fd-42a3-8332-919565a20dfe",
   "metadata": {},
   "source": [
    "## PINNs框架"
   ]
  },
  {
   "cell_type": "code",
   "execution_count": 4,
   "id": "84c87340-255a-4238-b2e8-336a72736894",
   "metadata": {
    "tags": []
   },
   "outputs": [],
   "source": [
    "class MLP(torch.nn.Module):\n",
    "    def __init__(self):\n",
    "        super(MLP, self).__init__()\n",
    "        self.net = torch.nn.Sequential(\n",
    "            torch.nn.Linear(2, 32),\n",
    "            torch.nn.Tanh(),\n",
    "            torch.nn.Linear(32, 32),\n",
    "            torch.nn.Tanh(),\n",
    "            torch.nn.Linear(32, 32),\n",
    "            torch.nn.Tanh(),\n",
    "            torch.nn.Linear(32, 32),\n",
    "            torch.nn.Tanh(),\n",
    "            torch.nn.Linear(32, 1)\n",
    "        )\n",
    "\n",
    "    def forward(self, x):\n",
    "        return self.net(x)"
   ]
  },
  {
   "cell_type": "markdown",
   "id": "fc91907e-a3c5-435a-aced-18abe329d267",
   "metadata": {},
   "source": [
    "## 损失函数"
   ]
  },
  {
   "cell_type": "code",
   "execution_count": 5,
   "id": "04fdc651-6b28-495c-b0e1-68c085b9ad9a",
   "metadata": {
    "tags": []
   },
   "outputs": [],
   "source": [
    "# Loss\n",
    "loss = torch.nn.MSELoss()\n",
    "\n",
    "# 递归求导\n",
    "def gradients(u, x, order=1):\n",
    "    if order == 1:\n",
    "        return torch.autograd.grad(u, x, grad_outputs=torch.ones_like(u),\n",
    "                                   create_graph=True,\n",
    "                                   only_inputs=True, )[0]\n",
    "    else:\n",
    "        return gradients(gradients(u, x), x, order=order - 1)"
   ]
  },
  {
   "cell_type": "code",
   "execution_count": 6,
   "id": "901def6a-fcd6-46ae-987a-f1d3f5aa439d",
   "metadata": {
    "tags": []
   },
   "outputs": [],
   "source": [
    "X = torch.rand(n, 1, device=device, requires_grad=True)\n",
    "Y = torch.rand(n, 1, device=device, requires_grad=True)\n",
    "\n",
    "def point(n=100, device=device):\n",
    "    # 随机生成 n 个点\n",
    "    x = X\n",
    "    y = Y\n",
    "    return x, y\n",
    "\n",
    "def l_ugeq(u, n=100):\n",
    "    # u >= 0\n",
    "    x, y = point(n, device)\n",
    "    cond = torch.zeros_like(y)\n",
    "    \n",
    "    # 计算损失\n",
    "    uxy = u(torch.cat([x, y], dim=1))\n",
    "    llos = torch.relu(-uxy)\n",
    "    ugeq_loss = 100 * torch.sum(llos)\n",
    "    \n",
    "    # 返回每个点的损失值\n",
    "    return ugeq_loss, llos, x, y\n",
    "\n",
    "def l_pde(u, n=100, device=device):\n",
    "    # 等式项损失\n",
    "    x, y = point(n, device)\n",
    "    cond = 2 * torch.pi**2 * torch.sin(torch.pi * x) * torch.sin(torch.pi * y)\n",
    "    \n",
    "    # 计算损失\n",
    "    uxy = u(torch.cat([x, y], dim=1))\n",
    "    \n",
    "    # 确保梯度计算返回每个点的值\n",
    "    grad_x2 = gradients(uxy, x, 2)  # 对 x 计算二阶梯度\n",
    "    grad_y2 = gradients(uxy, y, 2)  # 对 y 计算二阶梯度\n",
    "\n",
    "    # 计算每个点的损失\n",
    "    loss_value = -grad_x2 - grad_y2  # 假设这里是 PDE 中的计算\n",
    "    loss_value = loss_value - cond   # 计算 PDE 的残差\n",
    "    pde_loss = loss(-gradients(uxy, x, 2) - gradients(uxy, y, 2)- cond, torch.zeros_like(cond))\n",
    "\n",
    "    # 返回每个点的损失值\n",
    "    return pde_loss, loss_value, x, y\n"
   ]
  },
  {
   "cell_type": "code",
   "execution_count": 7,
   "id": "793e1831-0cba-43c9-b5a9-af3f79d5bafb",
   "metadata": {
    "tags": []
   },
   "outputs": [],
   "source": [
    "def l_JU(u, n=100, device=device):\n",
    "    \"\"\"\n",
    "    计算每个点的 JU 损失值和整体的 JU 损失（通过蒙特卡罗积分近似）\n",
    "    \n",
    "    参数：\n",
    "    - u: 神经网络\n",
    "    - n: 采样点的数量\n",
    "    - device: 设备（\"cuda\" 或 \"cpu\"）\n",
    "    \n",
    "    返回：\n",
    "    - JU_loss: 总的目标函数值（通过积分近似）\n",
    "    - llos_JU: 每个点的损失值（对应每个采样点）\n",
    "    - x, y: 对应每个点的坐标\n",
    "    \"\"\"\n",
    "    # 随机采样点\n",
    "    x, y = point(n, device)\n",
    "    cond = 2 * torch.pi**2 * torch.sin(torch.pi * x) * torch.sin(torch.pi * y)\n",
    "\n",
    "    # 计算 u 和其梯度\n",
    "    uxy = u(torch.cat([x, y], dim=1))\n",
    "    grad_x = gradients(uxy, x, 1)\n",
    "    grad_y = gradients(uxy, y, 1)\n",
    "    \n",
    "    # 每个点的损失值\n",
    "    llos_JU = 0.5 * (grad_x**2 + grad_y**2) - cond * uxy  # 每个点对应的损失值\n",
    "    p1 = 0.5 * (grad_x**2 + grad_y**2)\n",
    "    p2 = cond * uxy\n",
    "\n",
    "    # 使用蒙特卡罗积分近似整体损失\n",
    "    JU_loss = llos_JU.mean()  # 取所有点的平均值作为积分的近似\n",
    "\n",
    "    return JU_loss, llos_JU, x, y, p1, p2\n"
   ]
  },
  {
   "cell_type": "code",
   "execution_count": 8,
   "id": "d84d8f50-224f-4f0a-bdad-784f39074a4b",
   "metadata": {
    "tags": []
   },
   "outputs": [],
   "source": [
    "# 边界函数构建\n",
    "def l_boundary1(u):\n",
    "    # 取点\n",
    "    x = torch.arange(0, 1.001, N1, device=device, requires_grad=True).view(-1, 1)\n",
    "    y = torch.ones_like(x, device=device, requires_grad=True)\n",
    "    cond = torch.zeros_like(x, device=device)\n",
    "    # 计算\n",
    "    uxy = u(torch.cat([x, y], dim=1))\n",
    "    return loss(uxy, cond)\n",
    "\n",
    "def l_boundary2(u):\n",
    "    # 取点\n",
    "    y = torch.arange(0, 1.001, N1, device=device, requires_grad=True).view(-1, 1)\n",
    "    x = torch.ones_like(y, device=device, requires_grad=True)\n",
    "    cond = torch.zeros_like(x, device=device)\n",
    "    # 计算\n",
    "    uxy = u(torch.cat([x, y], dim=1))\n",
    "    return loss(uxy, cond)\n",
    "\n",
    "def l_boundary3(u):\n",
    "    # 取点\n",
    "    y = torch.arange(0, 1.001, N1, device=device, requires_grad=True).view(-1, 1)\n",
    "    x = torch.zeros_like(y, device=device, requires_grad=True)\n",
    "    cond = torch.zeros_like(x, device=device)\n",
    "    # 计算\n",
    "    uxy = u(torch.cat([x, y], dim=1))\n",
    "    return loss(uxy, cond)\n",
    "\n",
    "def l_boundary4(u):\n",
    "    # 取点\n",
    "    x = torch.arange(0, 1.001, N1, device=device, requires_grad=True).view(-1, 1)\n",
    "    y = torch.zeros_like(x, device=device, requires_grad=True)\n",
    "    cond = torch.zeros_like(x, device=device)\n",
    "    # 计算\n",
    "    uxy = u(torch.cat([x, y], dim=1))\n",
    "    return loss(uxy, cond)"
   ]
  },
  {
   "cell_type": "markdown",
   "id": "6603b7e7-c8c4-492e-b8e1-61f708efb215",
   "metadata": {},
   "source": [
    "## 训练"
   ]
  },
  {
   "cell_type": "code",
   "execution_count": null,
   "id": "acb65d61-89c0-4294-83e5-12327d9fb3a4",
   "metadata": {},
   "outputs": [],
   "source": [
    "# Training\n",
    "u = MLP().to(device)\n",
    "opt = torch.optim.Adam(params=u.parameters(), lr=0.0001)\n",
    "\n",
    "# 设置初始权重\n",
    "weight_pde = 60000\n",
    "weight_JU = 200\n",
    "weight_boundary = 10000000\n",
    "current_time = time.time()\n",
    "maxerror = 99999999999\n",
    "\n",
    "for epoch in range(epochs):\n",
    "    opt.zero_grad()\n",
    "\n",
    "    # # 手动调整学习率\n",
    "    # if epoch == 100000:\n",
    "    #     for param_group in opt.param_groups:\n",
    "    #         param_group['lr'] *= 5  # 学习率放大 1/10 倍\n",
    "    \n",
    "    # 计算各个损失函数并获取点\n",
    "    pde_loss, llos_pde, x_pde, y_pde = l_pde(u)\n",
    "    JU_loss, llos_JU, x_JU, y_JU, p1, p2 = l_JU(u)\n",
    "    ugeq_loss, llos_ugeq, x_ugeq, y_ugeq = l_ugeq(u)\n",
    "    \n",
    "    inside_loss = weight_pde * llos_pde + weight_JU * llos_JU + 6000 * llos_ugeq\n",
    "    loss_boundary = l_boundary1(u) +  l_boundary2(u) + l_boundary3(u) + l_boundary4(u)\n",
    "    \n",
    "    # 计算加权总损失\n",
    "    total_loss = weight_pde * pde_loss + weight_JU * JU_loss + 600 * ugeq_loss + weight_boundary * loss_boundary\n",
    "    # total_loss = JU_loss\n",
    "    # 每100次迭代记录一次损失\n",
    "    if epoch % 100 == 0 and epoch != 0:\n",
    "        print(f\"pde:{pde_loss.item()},JU:{JU_loss.item()},boundary:{loss_boundary.item()}\")\n",
    "        print(p1.mean().item(), p2.mean().item())\n",
    "        maxerror, current_time = record_loss_and_save_model(u, epoch, maxerror, current_time, h, device)\n",
    "        \n",
    "    # if epoch % 100000 == 0 and epoch != 0:\n",
    "    #     X, Y = update_dataset(X, Y, inside_loss, x_pde, y_pde, top_k, num_new_points, bias, device)\n",
    "    \n",
    "    # 反向传播和优化\n",
    "    total_loss.backward()\n",
    "    opt.step()\n",
    "\n"
   ]
  }
 ],
 "metadata": {
  "kernelspec": {
   "display_name": "Python 3 (ipykernel)",
   "language": "python",
   "name": "python3"
  },
  "language_info": {
   "codemirror_mode": {
    "name": "ipython",
    "version": 3
   },
   "file_extension": ".py",
   "mimetype": "text/x-python",
   "name": "python",
   "nbconvert_exporter": "python",
   "pygments_lexer": "ipython3",
   "version": "3.8.10"
  }
 },
 "nbformat": 4,
 "nbformat_minor": 5
}
