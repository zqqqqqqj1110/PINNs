{
 "cells": [
  {
   "cell_type": "code",
   "execution_count": 1,
   "id": "34b8a577-5df0-4880-af4b-41c10e3134ec",
   "metadata": {
    "tags": []
   },
   "outputs": [],
   "source": [
    "import torch\n",
    "import numpy as np\n",
    "import seaborn as sns\n",
    "import matplotlib.pyplot as plt\n",
    "from mpl_toolkits.mplot3d import Axes3D"
   ]
  },
  {
   "cell_type": "code",
   "execution_count": 5,
   "id": "f66f9649-c891-4295-9af2-4bb022dcdfee",
   "metadata": {
    "tags": []
   },
   "outputs": [
    {
     "name": "stdout",
     "output_type": "stream",
     "text": [
      "cpu\n"
     ]
    },
    {
     "data": {
      "text/plain": [
       "MLP(\n",
       "  (net): Sequential(\n",
       "    (0): Linear(in_features=2, out_features=32, bias=True)\n",
       "    (1): Tanh()\n",
       "    (2): Linear(in_features=32, out_features=32, bias=True)\n",
       "    (3): Tanh()\n",
       "    (4): Linear(in_features=32, out_features=32, bias=True)\n",
       "    (5): Tanh()\n",
       "    (6): Linear(in_features=32, out_features=32, bias=True)\n",
       "    (7): Tanh()\n",
       "    (8): Linear(in_features=32, out_features=1, bias=True)\n",
       "  )\n",
       ")"
      ]
     },
     "execution_count": 5,
     "metadata": {},
     "output_type": "execute_result"
    }
   ],
   "source": [
    "# 设置 GPU 设备\n",
    "device = torch.device(\"cuda:0\" if torch.cuda.is_available() else \"cpu\")\n",
    "\n",
    "# 设定随机种子\n",
    "def setup_seed(seed):\n",
    "    torch.manual_seed(seed)\n",
    "    torch.cuda.manual_seed_all(seed)\n",
    "    torch.backends.cudnn.deterministic = True\n",
    "\n",
    "setup_seed(888888)\n",
    "\n",
    "print(device)\n",
    "\n",
    "# 基础参数\n",
    "h = 100    # 画图网格密度\n",
    "N = 1000    # 内点配置点数\n",
    "N1 = 0.01  # 边界点配置点数\n",
    "N2 = 1000  # PDE数据点\n",
    "\n",
    "# 定义 MLP 模型\n",
    "class MLP(torch.nn.Module):\n",
    "    def __init__(self):\n",
    "        super(MLP, self).__init__()\n",
    "        self.net = torch.nn.Sequential(\n",
    "            torch.nn.Linear(2, 32),\n",
    "            torch.nn.Tanh(),\n",
    "            torch.nn.Linear(32, 32),\n",
    "            torch.nn.Tanh(),\n",
    "            torch.nn.Linear(32, 32),\n",
    "            torch.nn.Tanh(),\n",
    "            torch.nn.Linear(32, 32),\n",
    "            torch.nn.Tanh(),\n",
    "            torch.nn.Linear(32, 1)\n",
    "        )\n",
    "\n",
    "    def forward(self, x):\n",
    "        return self.net(x)\n",
    "\n",
    "# 定义模型并加载权重\n",
    "u = MLP().to(device)\n",
    "u.load_state_dict(torch.load('weights_4D.pth', map_location=device))\n",
    "u.eval()  # 设置模型为评估模式"
   ]
  },
  {
   "cell_type": "code",
   "execution_count": 6,
   "id": "b02f84ed-e98d-41b0-a1a8-ef85c536d601",
   "metadata": {
    "tags": []
   },
   "outputs": [
    {
     "name": "stdout",
     "output_type": "stream",
     "text": [
      "解析解形状: torch.Size([100, 100])\n",
      "模型预测形状: torch.Size([100, 100])\n"
     ]
    }
   ],
   "source": [
    "# 生成 [-1,1] x [-1,1] 计算网格\n",
    "x = torch.linspace(0, 1, h)\n",
    "y = torch.linspace(0, 1, h)\n",
    "xx, yy = torch.meshgrid(x, y, indexing=\"ij\")\n",
    "\n",
    "# 计算解析解\n",
    "u_real = torch.relu(torch.sin(torch.pi * xx) * torch.sin(torch.pi * yy)).to(device)\n",
    "\n",
    "# 计算 MLP 预测解\n",
    "grid_points = torch.stack([xx.flatten(), yy.flatten()], dim=1).to(device)  # (h*h, 2)\n",
    "u_pred = u(grid_points)  # 预测值 (h*h, 1)\n",
    "u_pred = torch.relu(u_pred)\n",
    "\n",
    "# 重新将预测解恢复为二维网格 (h, h)\n",
    "u_pred_grid = u_pred.view(h, h)\n",
    "\n",
    "# 输出形状检查\n",
    "print(f\"解析解形状: {u_real.shape}\")  # 应该是 (h, h)\n",
    "print(f\"模型预测形状: {u_pred_grid.shape}\")  # 应该是 (h, h)\n"
   ]
  },
  {
   "cell_type": "code",
   "execution_count": 7,
   "id": "6e5b8174-a65f-4968-826e-88cb70ddf14f",
   "metadata": {
    "tags": []
   },
   "outputs": [
    {
     "name": "stdout",
     "output_type": "stream",
     "text": [
      "最大误差 Max Error: 0.0008835792541503906\n",
      "MAE (Mean Absolute Error): 0.000296463054837659\n",
      "MSE (Mean Squared Error): 1.464542265239288e-07\n",
      "Relative L2 Norm Error: 5.977117893962713e-07\n"
     ]
    }
   ],
   "source": [
    "# 计算误差\n",
    "batch_size = 1000  # 每批计算1000个点\n",
    "num_batches = u_pred_grid.shape[0] * u_pred_grid.shape[1] // batch_size  # 分批次数\n",
    "\n",
    "# 初始化误差指标\n",
    "max_error = 0.0\n",
    "mae = 0.0  # MAE\n",
    "mse = 0.0  # MSE\n",
    "l2_norm_u_real = torch.norm(u_real) ** 2  # 解析解的 L2 范数平方，用于相对误差计算\n",
    "\n",
    "# 逐批计算误差\n",
    "for i in range(num_batches):\n",
    "    start = i * batch_size\n",
    "    end = start + batch_size\n",
    "    batch_pred = u_pred[start:end].view(-1)  # 拉平为一维\n",
    "    batch_real = u_real.flatten()[start:end].view(-1)  # 拉平为一维\n",
    "\n",
    "    batch_error = torch.abs(batch_pred - batch_real)\n",
    "    \n",
    "    # 更新最大误差\n",
    "    max_batch_error = torch.max(batch_error)\n",
    "    max_error = max(max_error, max_batch_error)\n",
    "\n",
    "    # 更新 MAE 和 MSE\n",
    "    mae += torch.sum(batch_error)\n",
    "    mse += torch.sum(batch_error ** 2)\n",
    "\n",
    "# 处理剩余部分（如果不能被batch_size整除）\n",
    "if u_pred.shape[0] % batch_size != 0:\n",
    "    start = num_batches * batch_size\n",
    "    batch_pred = u_pred[start:].view(-1)\n",
    "    batch_real = u_real.flatten()[start:].view(-1)\n",
    "    batch_error = torch.abs(batch_pred - batch_real)\n",
    "\n",
    "    # 更新最大误差\n",
    "    max_batch_error = torch.max(batch_error)\n",
    "    max_error = max(max_error, max_batch_error)\n",
    "\n",
    "    # 更新 MAE 和 MSE\n",
    "    mae += torch.sum(batch_error)\n",
    "    mse += torch.sum(batch_error ** 2)\n",
    "\n",
    "# 计算总点数\n",
    "total_points = u_pred_grid.shape[0] * u_pred_grid.shape[1]\n",
    "\n",
    "# 计算 MAE 和 MSE\n",
    "mae /= total_points\n",
    "mse /= total_points\n",
    "\n",
    "# 计算相对 L2 范数误差\n",
    "l2_norm_error = torch.norm(u_pred_grid - u_real) ** 2 / l2_norm_u_real\n",
    "\n",
    "# 输出结果\n",
    "print(f\"最大误差 Max Error: {max_error.item()}\")\n",
    "print(f\"MAE (Mean Absolute Error): {mae.item()}\")\n",
    "print(f\"MSE (Mean Squared Error): {mse.item()}\")\n",
    "print(f\"Relative L2 Norm Error: {l2_norm_error.item()}\")"
   ]
  },
  {
   "cell_type": "code",
   "execution_count": null,
   "id": "6a77be2c-066d-413c-8ccc-875ef58c840d",
   "metadata": {
    "tags": []
   },
   "outputs": [],
   "source": []
  },
  {
   "cell_type": "code",
   "execution_count": null,
   "id": "b1c06d22-ec07-4360-89c4-34242dc25c26",
   "metadata": {
    "tags": []
   },
   "outputs": [],
   "source": [
    "import torch\n",
    "import matplotlib.pyplot as plt\n",
    "from mpl_toolkits.mplot3d import Axes3D\n",
    "\n",
    "# 设置 GPU 设备\n",
    "device = torch.device(\"cuda:0\" if torch.cuda.is_available() else \"cpu\")\n",
    "\n",
    "# 基础参数\n",
    "h = 100  # 网格密度\n",
    "\n",
    "# 生成 [-1,1] x [-1,1] 计算网格\n",
    "x = torch.linspace(-1, 1, h)\n",
    "y = torch.linspace(-1, 1, h)\n",
    "xx, yy = torch.meshgrid(x, y, indexing=\"ij\")\n",
    "\n",
    "# 计算解析解\n",
    "u_real = torch.relu(torch.sin(torch.pi * xx) * torch.sin(torch.pi * yy)).to(device)\n",
    "\n",
    "# 计算 MLP 预测解\n",
    "grid_points = torch.stack([xx.flatten(), yy.flatten()], dim=1).to(device)  # (h*h, 2)\n",
    "u_pred = u(grid_points)  # 预测值 (h*h, 1)\n",
    "\n",
    "# 将预测解和解析解恢复成网格形式\n",
    "u_real_grid = u_real.cpu().detach().numpy().reshape(h, h)\n",
    "u_pred_grid = u_pred.cpu().detach().numpy().reshape(h, h)\n",
    "\n",
    "# 绘制解析解和模型解的 3D 图\n",
    "fig = plt.figure(figsize=(18, 8))\n",
    "\n",
    "# 绘制解析解\n",
    "ax1 = fig.add_subplot(121, projection='3d')\n",
    "ax1.plot_surface(xx.cpu().numpy(), yy.cpu().numpy(), u_real_grid, cmap='viridis')\n",
    "ax1.set_title('Analytical Solution')\n",
    "ax1.set_xlabel('X')\n",
    "ax1.set_ylabel('Y')\n",
    "ax1.set_zlabel('u_real')\n",
    "\n",
    "# 绘制模型解\n",
    "ax2 = fig.add_subplot(122, projection='3d')\n",
    "ax2.plot_surface(xx.cpu().numpy(), yy.cpu().numpy(), u_pred_grid, cmap='viridis')\n",
    "ax2.set_title('Model Prediction')\n",
    "ax2.set_xlabel('X')\n",
    "ax2.set_ylabel('Y')\n",
    "ax2.set_zlabel('u_pred')\n",
    "\n",
    "# 显示图形\n",
    "plt.show()\n"
   ]
  },
  {
   "cell_type": "code",
   "execution_count": null,
   "id": "e4b3ad51-9449-4e3b-b719-f1e2d315eb35",
   "metadata": {},
   "outputs": [],
   "source": []
  }
 ],
 "metadata": {
  "kernelspec": {
   "display_name": "Python 3 (ipykernel)",
   "language": "python",
   "name": "python3"
  },
  "language_info": {
   "codemirror_mode": {
    "name": "ipython",
    "version": 3
   },
   "file_extension": ".py",
   "mimetype": "text/x-python",
   "name": "python",
   "nbconvert_exporter": "python",
   "pygments_lexer": "ipython3",
   "version": "3.8.10"
  }
 },
 "nbformat": 4,
 "nbformat_minor": 5
}
