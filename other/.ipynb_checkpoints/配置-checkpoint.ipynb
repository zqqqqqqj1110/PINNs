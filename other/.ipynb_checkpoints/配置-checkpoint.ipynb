{
 "cells": [
  {
   "cell_type": "code",
   "execution_count": 2,
   "id": "3075c639-398b-41cb-ad3c-3a601131f596",
   "metadata": {
    "tags": []
   },
   "outputs": [
    {
     "name": "stdout",
     "output_type": "stream",
     "text": [
      "Looking in indexes: http://mirrors.aliyun.com/pypi/simple\n",
      "Requirement already satisfied: psutil in ./miniconda3/lib/python3.8/site-packages (5.9.4)\n",
      "Collecting gputil\n",
      "  Downloading http://mirrors.aliyun.com/pypi/packages/ed/0e/5c61eedde9f6c87713e89d794f01e378cfd9565847d4576fa627d758c554/GPUtil-1.4.0.tar.gz (5.5 kB)\n",
      "Building wheels for collected packages: gputil\n",
      "  Building wheel for gputil (setup.py) ... \u001b[?25ldone\n",
      "\u001b[?25h  Created wheel for gputil: filename=GPUtil-1.4.0-py3-none-any.whl size=7410 sha256=f875ed849bdfc70296f0e15236cd97e700f6d3e607adbed79f646612529a357e\n",
      "  Stored in directory: /root/.cache/pip/wheels/17/0e/2b/a2b7be8e04571a447eccde0f1983a3b45553cfbbdcfca08b58\n",
      "Successfully built gputil\n",
      "Installing collected packages: gputil\n",
      "Successfully installed gputil-1.4.0\n",
      "\u001b[33mWARNING: Running pip as the 'root' user can result in broken permissions and conflicting behaviour with the system package manager. It is recommended to use a virtual environment instead: https://pip.pypa.io/warnings/venv\u001b[0m\n"
     ]
    }
   ],
   "source": [
    "!pip install psutil gputil"
   ]
  },
  {
   "cell_type": "code",
   "execution_count": 5,
   "id": "751bd546-dc80-4268-979c-3d7c1bd8f063",
   "metadata": {
    "tags": []
   },
   "outputs": [
    {
     "name": "stdout",
     "output_type": "stream",
     "text": [
      "Looking in indexes: http://mirrors.aliyun.com/pypi/simple\n",
      "Collecting py-cpuinfo\n",
      "  Downloading http://mirrors.aliyun.com/pypi/packages/e0/a9/023730ba63db1e494a271cb018dcd361bd2c917ba7004c3e49d5daf795a2/py_cpuinfo-9.0.0-py3-none-any.whl (22 kB)\n",
      "Installing collected packages: py-cpuinfo\n",
      "Successfully installed py-cpuinfo-9.0.0\n",
      "\u001b[33mWARNING: Running pip as the 'root' user can result in broken permissions and conflicting behaviour with the system package manager. It is recommended to use a virtual environment instead: https://pip.pypa.io/warnings/venv\u001b[0m\n",
      "Note: you may need to restart the kernel to use updated packages.\n"
     ]
    }
   ],
   "source": [
    "pip install py-cpuinfo"
   ]
  },
  {
   "cell_type": "code",
   "execution_count": 6,
   "id": "a60b3b22-228f-4150-b562-347531bbdfe4",
   "metadata": {
    "tags": []
   },
   "outputs": [
    {
     "name": "stdout",
     "output_type": "stream",
     "text": [
      "CPU Model: Intel(R) Xeon(R) Platinum 8474C\n",
      "CPU Count: 192\n",
      "CPU Frequency: 1130.4993489583335 MHz\n",
      "CPU Usage: 10.7%\n",
      "Total Memory: 1007.54 GB\n",
      "Available Memory: 941.57 GB\n",
      "Memory Usage: 6.5%\n",
      "GPU ID: 0\n",
      "GPU Name: NVIDIA GeForce RTX 4090 D\n",
      "GPU Load: 0.0%\n",
      "GPU Free Memory: 24211.0MB\n",
      "GPU Used Memory: 1.0MB\n",
      "GPU Total Memory: 24564.0MB\n",
      "GPU Temperature: 32.0 °C\n",
      "GPU UUID: GPU-826896b6-e81b-c762-4bdf-72c92597f000\n"
     ]
    }
   ],
   "source": [
    "import cpuinfo\n",
    "import psutil\n",
    "import GPUtil\n",
    "\n",
    "# 获取 CPU 信息\n",
    "cpu_info = cpuinfo.get_cpu_info()\n",
    "cpu_model = cpu_info['brand_raw']  # 这是CPU的名字\n",
    "cpu_count = psutil.cpu_count(logical=True)\n",
    "cpu_freq = psutil.cpu_freq()\n",
    "cpu_usage = psutil.cpu_percent(interval=1)\n",
    "\n",
    "# 获取内存信息\n",
    "memory_info = psutil.virtual_memory()\n",
    "total_memory = memory_info.total / (1024 ** 3)  # 转换为 GB\n",
    "available_memory = memory_info.available / (1024 ** 3)  # 转换为 GB\n",
    "memory_usage = memory_info.percent\n",
    "\n",
    "# 获取 GPU 信息\n",
    "gpus = GPUtil.getGPUs()\n",
    "\n",
    "# 打印 CPU 信息\n",
    "print(f\"CPU Model: {cpu_model}\")\n",
    "print(f\"CPU Count: {cpu_count}\")\n",
    "print(f\"CPU Frequency: {cpu_freq.current} MHz\")\n",
    "print(f\"CPU Usage: {cpu_usage}%\")\n",
    "\n",
    "# 打印内存信息\n",
    "print(f\"Total Memory: {total_memory:.2f} GB\")\n",
    "print(f\"Available Memory: {available_memory:.2f} GB\")\n",
    "print(f\"Memory Usage: {memory_usage}%\")\n",
    "\n",
    "# 打印 GPU 信息\n",
    "for gpu in gpus:\n",
    "    print(f\"GPU ID: {gpu.id}\")\n",
    "    print(f\"GPU Name: {gpu.name}\")\n",
    "    print(f\"GPU Load: {gpu.load * 100}%\")\n",
    "    print(f\"GPU Free Memory: {gpu.memoryFree}MB\")\n",
    "    print(f\"GPU Used Memory: {gpu.memoryUsed}MB\")\n",
    "    print(f\"GPU Total Memory: {gpu.memoryTotal}MB\")\n",
    "    print(f\"GPU Temperature: {gpu.temperature} °C\")\n",
    "    print(f\"GPU UUID: {gpu.uuid}\")\n"
   ]
  },
  {
   "cell_type": "code",
   "execution_count": null,
   "id": "0ce4fd81-cbff-41ce-8839-2a108e6a02b2",
   "metadata": {},
   "outputs": [],
   "source": []
  }
 ],
 "metadata": {
  "kernelspec": {
   "display_name": "Python 3 (ipykernel)",
   "language": "python",
   "name": "python3"
  },
  "language_info": {
   "codemirror_mode": {
    "name": "ipython",
    "version": 3
   },
   "file_extension": ".py",
   "mimetype": "text/x-python",
   "name": "python",
   "nbconvert_exporter": "python",
   "pygments_lexer": "ipython3",
   "version": "3.8.10"
  }
 },
 "nbformat": 4,
 "nbformat_minor": 5
}
